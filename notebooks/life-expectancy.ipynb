{
 "cells": [
  {
   "cell_type": "code",
   "execution_count": 1,
   "id": "eeb5f58e",
   "metadata": {},
   "outputs": [],
   "source": [
    "import pandas as pd"
   ]
  },
  {
   "cell_type": "code",
   "execution_count": 3,
   "id": "9e7c2612",
   "metadata": {},
   "outputs": [
    {
     "data": {
      "text/html": [
       "<div>\n",
       "<style scoped>\n",
       "    .dataframe tbody tr th:only-of-type {\n",
       "        vertical-align: middle;\n",
       "    }\n",
       "\n",
       "    .dataframe tbody tr th {\n",
       "        vertical-align: top;\n",
       "    }\n",
       "\n",
       "    .dataframe thead th {\n",
       "        text-align: right;\n",
       "    }\n",
       "</style>\n",
       "<table border=\"1\" class=\"dataframe\">\n",
       "  <thead>\n",
       "    <tr style=\"text-align: right;\">\n",
       "      <th></th>\n",
       "      <th>Entity</th>\n",
       "      <th>Code</th>\n",
       "      <th>Year</th>\n",
       "      <th>Period life expectancy at birth</th>\n",
       "    </tr>\n",
       "  </thead>\n",
       "  <tbody>\n",
       "    <tr>\n",
       "      <th>0</th>\n",
       "      <td>Afghanistan</td>\n",
       "      <td>AFG</td>\n",
       "      <td>1950</td>\n",
       "      <td>28.1563</td>\n",
       "    </tr>\n",
       "    <tr>\n",
       "      <th>1</th>\n",
       "      <td>Afghanistan</td>\n",
       "      <td>AFG</td>\n",
       "      <td>1951</td>\n",
       "      <td>28.5836</td>\n",
       "    </tr>\n",
       "    <tr>\n",
       "      <th>2</th>\n",
       "      <td>Afghanistan</td>\n",
       "      <td>AFG</td>\n",
       "      <td>1952</td>\n",
       "      <td>29.0138</td>\n",
       "    </tr>\n",
       "    <tr>\n",
       "      <th>3</th>\n",
       "      <td>Afghanistan</td>\n",
       "      <td>AFG</td>\n",
       "      <td>1953</td>\n",
       "      <td>29.4521</td>\n",
       "    </tr>\n",
       "    <tr>\n",
       "      <th>4</th>\n",
       "      <td>Afghanistan</td>\n",
       "      <td>AFG</td>\n",
       "      <td>1954</td>\n",
       "      <td>29.6975</td>\n",
       "    </tr>\n",
       "  </tbody>\n",
       "</table>\n",
       "</div>"
      ],
      "text/plain": [
       "        Entity Code  Year  Period life expectancy at birth\n",
       "0  Afghanistan  AFG  1950                          28.1563\n",
       "1  Afghanistan  AFG  1951                          28.5836\n",
       "2  Afghanistan  AFG  1952                          29.0138\n",
       "3  Afghanistan  AFG  1953                          29.4521\n",
       "4  Afghanistan  AFG  1954                          29.6975"
      ]
     },
     "execution_count": 3,
     "metadata": {},
     "output_type": "execute_result"
    }
   ],
   "source": [
    "df = pd.read_csv('../data/raw/life-expectancy.csv')\n",
    "df.head()"
   ]
  },
  {
   "cell_type": "code",
   "execution_count": 4,
   "id": "f599eb5b",
   "metadata": {},
   "outputs": [
    {
     "data": {
      "text/plain": [
       "count    21565.000000\n",
       "mean        61.942238\n",
       "std         12.925909\n",
       "min         10.989100\n",
       "25%         52.703000\n",
       "50%         64.479900\n",
       "75%         71.978900\n",
       "max         86.372400\n",
       "Name: Period life expectancy at birth, dtype: float64"
      ]
     },
     "execution_count": 4,
     "metadata": {},
     "output_type": "execute_result"
    }
   ],
   "source": [
    "df['Period life expectancy at birth'].describe()"
   ]
  },
  {
   "cell_type": "code",
   "execution_count": 6,
   "id": "69fdda30",
   "metadata": {},
   "outputs": [
    {
     "data": {
      "text/plain": [
       "Entity                                0\n",
       "Code                               1956\n",
       "Year                                  0\n",
       "Period life expectancy at birth       0\n",
       "dtype: int64"
      ]
     },
     "execution_count": 6,
     "metadata": {},
     "output_type": "execute_result"
    }
   ],
   "source": [
    "df.isna().sum()"
   ]
  },
  {
   "cell_type": "code",
   "execution_count": 14,
   "id": "3f80c4c0",
   "metadata": {},
   "outputs": [
    {
     "data": {
      "text/plain": [
       "array(['Africa', 'Americas', 'Asia', 'England and Wales', 'Europe',\n",
       "       'High-and-upper-middle-income countries', 'High-income countries',\n",
       "       'Land-locked Developing Countries (LLDC)',\n",
       "       'Latin America and the Caribbean', 'Least developed countries',\n",
       "       'Less developed regions',\n",
       "       'Less developed regions, excluding China',\n",
       "       'Less developed regions, excluding least developed countries',\n",
       "       'Low-and-Lower-middle-income countries',\n",
       "       'Low-and-middle-income countries', 'Low-income countries',\n",
       "       'Lower-middle-income countries', 'Middle-income countries',\n",
       "       'More developed regions', 'No income group available',\n",
       "       'Northern America', 'Northern Ireland', 'Oceania', 'Scotland',\n",
       "       'Small Island Developing States (SIDS)',\n",
       "       'Upper-middle-income countries'], dtype=object)"
      ]
     },
     "execution_count": 14,
     "metadata": {},
     "output_type": "execute_result"
    }
   ],
   "source": [
    "df[df['Code'].isna()]['Entity'].unique()"
   ]
  },
  {
   "cell_type": "code",
   "execution_count": 5,
   "id": "bc4fb4a5",
   "metadata": {},
   "outputs": [
    {
     "data": {
      "text/plain": [
       "<Axes: title={'center': 'Life Expectancy Over Years - Brazil'}, xlabel='Year'>"
      ]
     },
     "execution_count": 5,
     "metadata": {},
     "output_type": "execute_result"
    },
    {
     "data": {
      "image/png": "[encoded data removed]",
      "text/plain": [
       "<Figure size 640x480 with 1 Axes>"
      ]
     },
     "metadata": {},
     "output_type": "display_data"
    }
   ],
   "source": [
    "df[df['Entity'] == 'Brazil'].plot(x='Year', y='Period life expectancy at birth', kind='line', title='Life Expectancy Over Years - Brazil')"
   ]
  }
 ],
 "metadata": {
  "kernelspec": {
   "display_name": ".venv",
   "language": "python",
   "name": "python3"
  },
  "language_info": {
   "codemirror_mode": {
    "name": "ipython",
    "version": 3
   },
   "file_extension": ".py",
   "mimetype": "text/x-python",
   "name": "python",
   "nbconvert_exporter": "python",
   "pygments_lexer": "ipython3",
   "version": "3.10.12"
  }
 },
 "nbformat": 4,
 "nbformat_minor": 5
}
